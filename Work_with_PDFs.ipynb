{
  "nbformat": 4,
  "nbformat_minor": 0,
  "metadata": {
    "colab": {
      "name": "Work with PDFs.ipynb",
      "provenance": [],
      "collapsed_sections": [],
      "authorship_tag": "ABX9TyOc5fmsOJBfcN9wgHl16pJT",
      "include_colab_link": true
    },
    "kernelspec": {
      "name": "python3",
      "display_name": "Python 3"
    },
    "language_info": {
      "name": "python"
    }
  },
  "cells": [
    {
      "cell_type": "markdown",
      "metadata": {
        "id": "view-in-github",
        "colab_type": "text"
      },
      "source": [
        "<a href=\"https://colab.research.google.com/github/mjakimiuk/PyBoreas_Blog_Tutorials/blob/main/Work_with_PDFs.ipynb\" target=\"_parent\"><img src=\"https://colab.research.google.com/assets/colab-badge.svg\" alt=\"Open In Colab\"/></a>"
      ]
    },
    {
      "cell_type": "markdown",
      "source": [
        "#The purpose of this Jupyter Notebook is to help you work with PDFs. "
      ],
      "metadata": {
        "id": "i8oyoKMS8qv9"
      }
    },
    {
      "cell_type": "markdown",
      "source": [
        "With this Jupyter Notebook we will be using built in `Google Colab Forms` as well as `Jupyter Widgets`"
      ],
      "metadata": {
        "id": "cTFdJsnmu99v"
      }
    },
    {
      "cell_type": "markdown",
      "source": [
        "##First step is to install `pypdf2` module in Google Colab and `import` necessary modules.\n"
      ],
      "metadata": {
        "id": "sL8N97Gs9JxP"
      }
    },
    {
      "cell_type": "code",
      "execution_count": 55,
      "metadata": {
        "colab": {
          "base_uri": "https://localhost:8080/"
        },
        "id": "ws4nomWI4k9Z",
        "outputId": "6f2a7343-6d74-4a93-b64d-6c435f5cfa95"
      },
      "outputs": [
        {
          "output_type": "stream",
          "name": "stdout",
          "text": [
            "Requirement already satisfied: pypdf2 in /usr/local/lib/python3.7/dist-packages (1.26.0)\n"
          ]
        }
      ],
      "source": [
        "pip install pypdf2"
      ]
    },
    {
      "cell_type": "code",
      "source": [
        "#@title We import neccesary modules: `pypdf2`, `ipywidgets`, `files` from `google.colab`, `display` from `IPython`\n",
        "import os\n",
        "\n",
        "from PyPDF2 import PdfFileReader, PdfFileWriter\n",
        "import ipywidgets as widgets\n",
        "from google.colab import files\n",
        "from IPython.display import display"
      ],
      "metadata": {
        "id": "n-brkpc_JBb2"
      },
      "execution_count": 77,
      "outputs": []
    },
    {
      "cell_type": "markdown",
      "source": [
        "##We need to upload files to our Google Drive so we can work with them later."
      ],
      "metadata": {
        "id": "Qtb2he8J9u2f"
      }
    },
    {
      "cell_type": "code",
      "source": [
        "uploaded = files.upload()\n",
        "\n",
        "for fn in uploaded.keys():\n",
        "  print('User uploaded file \"{name}\" with length {length} bytes'.format(\n",
        "      name=fn, length=len(uploaded[fn])))\n",
        "  \n"
      ],
      "metadata": {
        "id": "AHe3NS_N4luD"
      },
      "execution_count": null,
      "outputs": []
    },
    {
      "cell_type": "markdown",
      "source": [
        "##Rotate PDF"
      ],
      "metadata": {
        "id": "oz0WTvymCS4F"
      }
    },
    {
      "cell_type": "markdown",
      "source": [
        "Pick the file that we will work with\n",
        "Files are located in `sample_data` folder in Google Colab. To change file location please change the `files` variable. "
      ],
      "metadata": {
        "id": "W-CMfSsb1D71"
      }
    },
    {
      "cell_type": "code",
      "source": [
        "files = sorted([f if '.pdf' in f else None for f in os.listdir('.') if os.path.isfile(f)])\n",
        "if bool(files):\n",
        "  uploaded_files_widget = widgets.Dropdown(\n",
        "      options=files,\n",
        "      value=files[0],\n",
        "      description='String:',\n",
        "      disabled=False,\n",
        "  )\n",
        "  display(uploaded_files_widget)"
      ],
      "metadata": {
        "id": "bTzkqyrB1djx"
      },
      "execution_count": null,
      "outputs": []
    },
    {
      "cell_type": "code",
      "source": [
        "#@title Enter continous filename with `.pdf` ending\n",
        "path = uploaded_files_widget.value\n",
        "output_file = \"some file.pdf\" #@param {type:\"string\"}\n"
      ],
      "metadata": {
        "id": "FHZfZ9pJJUXF"
      },
      "execution_count": null,
      "outputs": []
    },
    {
      "cell_type": "code",
      "source": [
        "#@title Pick parameters\n",
        "def rotate_pages(pdf_path, clockwise = 'Clockwise', angle = 0):\n",
        "    clockwise = \"Clockwise\" #@param [\"Clockwise\", \"CounterClockwise\"]\n",
        "    angle = \"90\" #@param [\"0\", \"90\", \"180\", \"270\"]\n",
        "    pdf_writer = PdfFileWriter()\n",
        "    pdf_reader = PdfFileReader(pdf_path)\n",
        "    number_of_pages = range(pdf_reader.getNumPages())\n",
        "    if clockwise == 'Clockwise':\n",
        "      for page in number_of_pages:\n",
        "          pdf_writer.addPage(pdf_reader.getPage(page).rotateClockwise(int(angle)))\n",
        "      with open(output_file, 'wb') as final_file:\n",
        "          pdf_writer.write(final_file)\n",
        "    elif clockwise == 'CounterClockwise':\n",
        "      for page in number_of_pages:\n",
        "          pdf_writer.addPage(pdf_reader.getPage(page).rotateCounterClockwise(int(angle)))\n",
        "      with open(output_file, 'wb') as final_file:\n",
        "          pdf_writer.write(final_file)\n",
        "      "
      ],
      "metadata": {
        "id": "vvJU3t2143Gj"
      },
      "execution_count": null,
      "outputs": []
    },
    {
      "cell_type": "code",
      "source": [
        "#@title Run the function\n",
        "rotate_pages(path)"
      ],
      "metadata": {
        "id": "0x5Do03Q7alF"
      },
      "execution_count": null,
      "outputs": []
    }
  ]
}